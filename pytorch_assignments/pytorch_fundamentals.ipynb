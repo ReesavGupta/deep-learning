{
 "cells": [
  {
   "cell_type": "markdown",
   "metadata": {},
   "source": [
    "# PyTorch Fundamentals & Manual Custom ANN\n",
    "\n",
    "**Assignment: Tensor Creation and Operations**\n",
    "\n",
    "This notebook demonstrates basic PyTorch operations without using `torch.nn` or `torch.nn.Module`.\n",
    "It covers tensor creation, matrix operations, and GPU utilization.\n",
    "\n",
    "**Requirements:**\n",
    "- Use only basic PyTorch operations\n",
    "- Generate dataset using sklearn if needed\n",
    "- Use CPU or GPU based on availability\n",
    "- Include comments explaining each step"
   ]
  },
  {
   "cell_type": "code",
   "execution_count": null,
   "metadata": {},
   "outputs": [],
   "source": [
    "# Import required libraries\n",
    "import torch\n",
    "import numpy as np\n",
    "from sklearn.datasets import make_classification\n",
    "import pandas as pd\n",
    "import matplotlib.pyplot as plt\n",
    "\n",
    "# Set random seeds for reproducibility\n",
    "torch.manual_seed(42)\n",
    "np.random.seed(42)\n",
    "\n",
    "print(f\"PyTorch version: {torch.__version__}\")\n",
    "print(f\"NumPy version: {np.__version__}\")"
   ]
  },
  {
   "cell_type": "markdown",
   "metadata": {},
   "source": [
    "## 1. Device Setup\n",
    "\n",
    "First, let's check if CUDA is available and set up the appropriate device."
   ]
  },
  {
   "cell_type": "code",
   "execution_count": null,
   "metadata": {},
   "outputs": [],
   "source": [
    "# Check if CUDA is available and set device\n",
    "if torch.cuda.is_available():\n",
    "    device = torch.device('cuda')\n",
    "    print(f\"CUDA is available! Using GPU: {torch.cuda.get_device_name(0)}\")\n",
    "    print(f\"CUDA version: {torch.version.cuda}\")\n",
    "    print(f\"Number of GPUs: {torch.cuda.device_count()}\")\n",
    "else:\n",
    "    device = torch.device('cpu')\n",
    "    print(\"CUDA is not available. Using CPU.\")\n",
    "\n",
    "print(f\"Selected device: {device}\")"
   ]
  },
  {
   "cell_type": "markdown",
   "metadata": {},
   "source": [
    "## 2. Tensor Creation\n",
    "\n",
    "Create the required tensors A and B as specified in the assignment."
   ]
  },
  {
   "cell_type": "code",
   "execution_count": null,
   "metadata": {},
   "outputs": [],
   "source": [
    "# Create tensors A and B as specified in the assignment\n",
    "print(\"Creating tensors A and B:\")\n",
    "\n",
    "# A: 3x2 tensor with random normal distribution\n",
    "A = torch.randn(3, 2)\n",
    "print(f\"A: {A}\")\n",
    "print(f\"A shape: {A.shape}\")\n",
    "print(f\"A dtype: {A.dtype}\")\n",
    "\n",
    "# B: 2x3 tensor with random normal distribution\n",
    "B = torch.randn(2, 3)\n",
    "print(f\"\\nB: {B}\")\n",
    "print(f\"B shape: {B.shape}\")\n",
    "print(f\"B dtype: {B.dtype}\")"
   ]
  },
  {
   "cell_type": "markdown",
   "metadata": {},
   "source": [
    "## 3. Matrix Multiplication\n",
    "\n",
    "Compute matrix multiplication: C = A @ B"
   ]
  },
  {
   "cell_type": "code",
   "execution_count": null,
   "metadata": {},
   "outputs": [],
   "source": [
    "# Matrix multiplication: C = A @ B\n",
    "print(\"Matrix multiplication (C = A @ B):\")\n",
    "\n",
    "C = A @ B\n",
    "print(f\"C: {C}\")\n",
    "print(f\"C shape: {C.shape}\")\n",
    "\n",
    "# Verify the operation makes sense\n",
    "print(f\"\\nVerification:\")\n",
    "print(f\"A shape: {A.shape} (3x2)\")\n",
    "print(f\"B shape: {B.shape} (2x3)\")\n",
    "print(f\"C shape: {C.shape} (3x3) ✓\")\n",
    "print(f\"Matrix multiplication is valid: (3x2) @ (2x3) = (3x3)\")"
   ]
  },
  {
   "cell_type": "markdown",
   "metadata": {},
   "source": [
    "## 4. Element-wise Addition\n",
    "\n",
    "Compute element-wise addition: D = A + torch.ones_like(A)"
   ]
  },
  {
   "cell_type": "code",
   "execution_count": null,
   "metadata": {},
   "outputs": [],
   "source": [
    "# Element-wise addition: D = A + torch.ones_like(A)\n",
    "print(\"Element-wise addition (D = A + ones_like(A)):\")\n",
    "\n",
    "# Create a tensor of ones with the same shape as A\n",
    "ones_like_A = torch.ones_like(A)\n",
    "print(f\"ones_like(A): {ones_like_A}\")\n",
    "\n",
    "# Perform element-wise addition\n",
    "D = A + ones_like_A\n",
    "print(f\"\\nD: {D}\")\n",
    "print(f\"D shape: {D.shape}\")\n",
    "\n",
    "# Show the operation step by step\n",
    "print(f\"\\nStep-by-step verification:\")\n",
    "print(f\"A[0,0] + 1 = {A[0,0].item():.4f} + 1 = {D[0,0].item():.4f}\")\n",
    "print(f\"A[0,1] + 1 = {A[0,1].item():.4f} + 1 = {D[0,1].item():.4f}\")"
   ]
  },
  {
   "cell_type": "markdown",
   "metadata": {},
   "source": [
    "## 5. Moving Tensors to GPU\n",
    "\n",
    "Move the results to GPU if available."
   ]
  },
  {
   "cell_type": "code",
   "execution_count": null,
   "metadata": {},
   "outputs": [],
   "source": [
    "# Move tensors to the selected device (GPU if available)\n",
    "print(\"Moving tensors to device:\")\n",
    "\n",
    "A_device = A.to(device)\n",
    "B_device = B.to(device)\n",
    "C_device = C.to(device)\n",
    "D_device = D.to(device)\n",
    "\n",
    "print(f\"A is on device: {A_device.device}\")\n",
    "print(f\"B is on device: {B_device.device}\")\n",
    "print(f\"C is on device: {C_device.device}\")\n",
    "print(f\"D is on device: {D_device.device}\")\n",
    "\n",
    "# Verify operations work on the device\n",
    "print(f\"\\nPerforming operations on {device}:\")\n",
    "C_device_computed = A_device @ B_device\n",
    "D_device_computed = A_device + torch.ones_like(A_device)\n",
    "\n",
    "print(f\"C (computed on {device}): {C_device_computed}\")\n",
    "print(f\"D (computed on {device}): {D_device_computed}\")\n",
    "\n",
    "# Verify results are the same\n",
    "print(f\"\\nVerification - results match:\")\n",
    "print(f\"C matches C_device_computed: {torch.allclose(C_device, C_device_computed)}\")\n",
    "print(f\"D matches D_device_computed: {torch.allclose(D_device, D_device_computed)}\")"
   ]
  },
  {
   "cell_type": "markdown",
   "metadata": {},
   "source": [
    "## 6. Sample Output Format\n",
    "\n",
    "Display results in the format specified in the assignment."
   ]
  },
  {
   "cell_type": "code",
   "execution_count": null,
   "metadata": {},
   "outputs": [],
   "source": [
    "# Display results in the assignment's sample output format\n",
    "print(\"=\" * 50)\n",
    "print(\"ASSIGNMENT SAMPLE OUTPUT FORMAT\")\n",
    "print(\"=\" * 50)\n",
    "\n",
    "print(f\"A: {A}\")\n",
    "print(f\"B: {B}\")\n",
    "print(f\"C: {C}\")\n",
    "print(f\"C is on device: {C_device.device}\")\n",
    "\n",
    "print(f\"\\nD: {D}\")\n",
    "print(f\"D is on device: {D_device.device}\")"
   ]
  },
  {
   "cell_type": "markdown",
   "metadata": {},
   "source": [
    "## 7. Generate Sample Dataset\n",
    "\n",
    "Generate a classification dataset using sklearn as mentioned in the assignment instructions."
   ]
  },
  {
   "cell_type": "code",
   "execution_count": null,
   "metadata": {},
   "outputs": [],
   "source": [
    "# Generate sample classification dataset\n",
    "print(\"Generating sample classification dataset:\")\n",
    "\n",
    "X, y = make_classification(\n",
    "    n_samples=1000,\n",
    "    n_features=4,\n",
    "    n_informative=3,\n",
    "    n_redundant=1,\n",
    "    n_classes=2,\n",
    "    random_state=42\n",
    ")\n",
    "\n",
    "# Create DataFrame and save to CSV\n",
    "df = pd.DataFrame(X, columns=[f'feature_{i}' for i in range(X.shape[1])])\n",
    "df['target'] = y\n",
    "\n",
    "csv_path = 'sample_dataset.csv'\n",
    "df.to_csv(csv_path, index=False)\n",
    "\n",
    "print(f\"Dataset saved to: {csv_path}\")\n",
    "print(f\"Dataset shape: {df.shape}\")\n",
    "print(f\"Features: {df.columns[:-1].tolist()}\")\n",
    "print(f\"Target classes: {np.unique(y)}\")\n",
    "print(f\"Class distribution: {np.bincount(y)}\")\n",
    "\n",
    "# Display first few rows\n",
    "print(f\"\\nFirst 5 rows:\")\n",
    "print(df.head())"
   ]
  },
  {
   "cell_type": "code",
   "execution_count": null,
   "metadata": {},
   "outputs": [],
   "source": [
    "# Convert dataset to PyTorch tensors\n",
    "print(\"Converting dataset to PyTorch tensors:\")\n",
    "\n",
    "X_tensor = torch.FloatTensor(X).to(device)\n",
    "y_tensor = torch.LongTensor(y).to(device)\n",
    "\n",
    "print(f\"X_tensor shape: {X_tensor.shape} on {X_tensor.device}\")\n",
    "print(f\"y_tensor shape: {y_tensor.shape} on {y_tensor.device}\")\n",
    "print(f\"X_tensor dtype: {X_tensor.dtype}\")\n",
    "print(f\"y_tensor dtype: {y_tensor.dtype}\")\n",
    "\n",
    "# Show sample data\n",
    "print(f\"\\nSample data (first 3 samples):\")\n",
    "print(f\"X_tensor[:3]: {X_tensor[:3]}\")\n",
    "print(f\"y_tensor[:3]: {y_tensor[:3]}\")"
   ]
  },
  {
   "cell_type": "markdown",
   "metadata": {},
   "source": [
    "## 8. Summary\n",
    "\n",
    "Summary of all operations performed in this assignment."
   ]
  },
  {
   "cell_type": "code",
   "execution_count": null,
   "metadata": {},
   "outputs": [],
   "source": [
    "print(\"=\" * 60)\n",
    "print(\"ASSIGNMENT COMPLETED SUCCESSFULLY!\")\n",
    "print(\"=\" * 60)\n",
    "\n",
    "print(\"\\nSummary of operations performed:\")\n",
    "print(\"✓ Created tensors A (3x2) and B (2x3) using torch.randn()\")\n",
    "print(\"✓ Computed matrix multiplication C = A @ B\")\n",
    "print(\"✓ Computed element-wise addition D = A + torch.ones_like(A)\")\n",
    "print(\"✓ Moved all tensors to GPU (if available)\")\n",
    "print(\"✓ Generated sample classification dataset using sklearn\")\n",
    "print(\"✓ Saved dataset to CSV file\")\n",
    "print(\"✓ Converted dataset to PyTorch tensors\")\n",
    "print(\"✓ Used only basic PyTorch operations (no torch.nn)\")\n",
    "\n",
    "print(f\"\\nFinal device used: {device}\")\n",
    "print(f\"All tensors successfully moved to: {device}\")"
   ]
  }
 ],
 "metadata": {
  "kernelspec": {
   "display_name": "Python 3",
   "language": "python",
   "name": "python3"
  },
  "language_info": {
   "codemirror_mode": {
    "name": "ipython",
    "version": 3
   },
   "file_extension": ".py",
   "mimetype": "text/x-python",
   "name": "python",
   "nbconvert_exporter": "python",
   "pygments_lexer": "ipython3",
   "version": "3.8.0"
  }
 },
 "nbformat": 4,
 "nbformat_minor": 4
}
